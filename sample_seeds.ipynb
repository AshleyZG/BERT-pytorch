{
 "cells": [
  {
   "cell_type": "code",
   "execution_count": 1,
   "metadata": {},
   "outputs": [],
   "source": [
    "import random"
   ]
  },
  {
   "cell_type": "code",
   "execution_count": 24,
   "metadata": {},
   "outputs": [],
   "source": [
    "\n",
    "seed_funcs = ['pandas.read_csv.dropna',\n",
    " 'seaborn.distplot',\n",
    " 'sklearn.cross_validation.cross_val_score',\n",
    " 'sklearn.cluster.KMeans',\n",
    " 'sklearn.model_selection.cross_val_score',\n",
    " 'tensorflow.Session',\n",
    " 'sklearn.metrics.accuracy_score',\n",
    " 'seaborn.lmplot',\n",
    " 'seaborn.pairplot',\n",
    " 'sklearn.svm.SVC']"
   ]
  },
  {
   "cell_type": "code",
   "execution_count": 25,
   "metadata": {},
   "outputs": [
    {
     "data": {
      "text/plain": [
       "10"
      ]
     },
     "execution_count": 25,
     "metadata": {},
     "output_type": "execute_result"
    }
   ],
   "source": [
    "len(seed_funcs)"
   ]
  },
  {
   "cell_type": "code",
   "execution_count": 26,
   "metadata": {},
   "outputs": [
    {
     "data": {
      "text/plain": [
       "['sklearn.cluster.KMeans',\n",
       " 'seaborn.distplot',\n",
       " 'seaborn.lmplot',\n",
       " 'sklearn.model_selection.cross_val_score',\n",
       " 'tensorflow.Session']"
      ]
     },
     "execution_count": 26,
     "metadata": {},
     "output_type": "execute_result"
    }
   ],
   "source": [
    "random.sample(seed_funcs, 5)"
   ]
  },
  {
   "cell_type": "code",
   "execution_count": null,
   "metadata": {},
   "outputs": [],
   "source": [
    "wrangle_funcs = [\n",
    "    'pandas.read_csv.dropna']\n",
    "explore_funcs = ['seaborn.distplot', \n",
    "                   'seaborn.lmplot']\n",
    "\n",
    "model_funcs = ['sklearn.cluster.KMeans',\n",
    "               \n",
    "               'sklearn.svm.SVC',\n",
    "               'tensorflow.Session']\n",
    "evaluate_funcs = [ 'sklearn.cross_validation.cross_val_score',\n",
    "                   'sklearn.model_selection.cross_val_score']\n",
    "\n",
    "['sklearn.cluster.KMeans',\n",
    " 'seaborn.distplot',\n",
    " 'seaborn.lmplot',\n",
    " 'sklearn.model_selection.cross_val_score',\n",
    " 'tensorflow.Session']"
   ]
  },
  {
   "cell_type": "code",
   "execution_count": 29,
   "metadata": {},
   "outputs": [
    {
     "data": {
      "text/plain": [
       "[1, 2]"
      ]
     },
     "execution_count": 29,
     "metadata": {},
     "output_type": "execute_result"
    }
   ],
   "source": [
    "random.sample([1,2,3,4],2)"
   ]
  },
  {
   "cell_type": "code",
   "execution_count": null,
   "metadata": {},
   "outputs": [],
   "source": []
  }
 ],
 "metadata": {
  "kernelspec": {
   "display_name": "Python allennlp",
   "language": "python",
   "name": "allennlp"
  },
  "language_info": {
   "codemirror_mode": {
    "name": "ipython",
    "version": 3
   },
   "file_extension": ".py",
   "mimetype": "text/x-python",
   "name": "python",
   "nbconvert_exporter": "python",
   "pygments_lexer": "ipython3",
   "version": "3.6.9"
  }
 },
 "nbformat": 4,
 "nbformat_minor": 2
}
